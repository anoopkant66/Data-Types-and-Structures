{
  "nbformat": 4,
  "nbformat_minor": 0,
  "metadata": {
    "colab": {
      "provenance": []
    },
    "kernelspec": {
      "name": "python3",
      "display_name": "Python 3"
    },
    "language_info": {
      "name": "python"
    }
  },
  "cells": [
    {
      "cell_type": "markdown",
      "source": [
        "1. What are data structures, and why are they important?\n",
        "\n",
        "= Importance and Uses of Data StructuresData structures are a way of organizing and storing data in a computer so that it can be used efficiently\n",
        "= Data structures are essential for two main reasons: they make the code more efficient, and they make the code easier to understand\n",
        "\n",
        "2. Explain the difference between mutable and immutable data types with examples?\n",
        "\n",
        "= Mutable data types are those whose values can be changed after they are created, while immutable data types cannot be modified once created\n",
        "= example\n",
        "   mutable > list, dictionary, sets.\n",
        "   immutable > string, tuple.\n",
        "\n",
        "3.  What are the main differences between lists and tuples in Python?\n",
        "\n",
        "= list are mutable and tuples are immutable.\n",
        "  in list we have more option for modification than tuples.\n",
        "\n",
        "4. Describe how dictionaries store data?\n",
        "\n",
        "= With dictionaries, data is stored in a key:value format.\n",
        "\n",
        "5. Why might you use a set instead of a list in Python?\n",
        "\n",
        "= sets is sutiable for unordered colection of unique data.\n",
        "\n",
        "6. What is a string in Python, and how is it different from a list?\n",
        "\n",
        "= string is a sequence of character and list is sequence of any type of element\n",
        "\n",
        "7. How do tuples ensure data integrity in Python?\n",
        "\n",
        "= tuple ensure data integrity in python through hid immutability.\n",
        "\n",
        "8. What is a hash table, and how does it relate to dictionaries in Python?\n",
        "\n",
        "= A hash table is a data structure that stores key-value pairs. It uses a process called hashing to compute an index (location in memory) for each key, which makes data lookup very fast.\n",
        "\n",
        "Python dictionaries use hash tables to perform fast key-value lookups. This is what makes operations like dict[\"key\"] extremely efficient.\n",
        "\n",
        "9. Can lists contain different data types in Python?\n",
        "\n",
        "= yes.\n",
        "\n",
        "10. Explain why strings are immutable in Python?\n",
        "\n",
        "= hasability.\n",
        "\n",
        "11. What advantages do dictionaries offer over lists for certain tasks?\n",
        "\n",
        "= Dictionaries provide faster lookups by key\n",
        "\n",
        "That’s one of the biggest advantages of using dictionaries in Python — they use hash tables, so finding a value by key is usually instant (O(1)), no matter how big the dictionary is.\n",
        "\n",
        "12. Describe a scenario where using a tuple would be preferable over a list?\n",
        "\n",
        "=  Any operation can store data in a tuple when you don't want it to change. Tuples are great to use if you want the data in your collection to be read-only, never to change, and always remain the same and constant.\n",
        "\n",
        "13. How do sets handle duplicate values in Python?\n",
        "\n",
        "= a set is a collection of unique, unordered elements, so it remove duplicate automatically.\n",
        "\n",
        "14. How does the “in” keyword work differently for lists and dictionaries?\n",
        "\n",
        "= in list  check for value and in dictionary check for key\n",
        "\n",
        "15. Can you modify the elements of a tuple? Explain why or why not?\n",
        "\n",
        "= no, because of its immutability.\n",
        "\n",
        "16. What is a nested dictionary, and give an example of its use case?\n",
        "\n",
        "= nested dictionary is dictionary inside dictionary.\n",
        "Suppose you're building a student database where each student has multiple details like name, age, and enrolled course\n",
        "\n",
        "17. Describe the time complexity of accessing elements in a dictionary?\n",
        "\n",
        "= it takes constant time regardless of the dictionary's size. This is due to the use of a hash table, which allows for direct lookup of elements based on their key. In the worst-case scenario.\n",
        "\n",
        "18. In what situations are lists preferred over dictionaries?\n",
        "\n",
        "= when ordered and sequence matter.\n",
        "\n",
        "19. Why are dictionaries considered unordered, and how does that affect data retrieval?\n",
        "\n",
        "= Dictionaries are optimized to retrieve values when the key is known.\n",
        "\n",
        "20. Explain the difference between a list and a dictionary in terms of data retrieval?\n",
        "\n",
        "= list use index and dictionary use key to access data.\n"
      ],
      "metadata": {
        "id": "1kxc9jx33WdH"
      }
    },
    {
      "cell_type": "markdown",
      "source": [
        "**practical** **questions**"
      ],
      "metadata": {
        "id": "Bp-_kuhybKD3"
      }
    },
    {
      "cell_type": "code",
      "execution_count": null,
      "metadata": {
        "id": "nN9zmnvm3Nxd",
        "colab": {
          "base_uri": "https://localhost:8080/"
        },
        "outputId": "2ee3ef3d-8f44-414f-d024-7445759ea74a"
      },
      "outputs": [
        {
          "output_type": "stream",
          "name": "stdout",
          "text": [
            "my name is anoop kant mishra\n"
          ]
        }
      ],
      "source": [
        "#Write a code to create a string with your name and print it?\n",
        "name = \"my name is anoop kant mishra\"\n",
        "print(name)"
      ]
    },
    {
      "cell_type": "code",
      "source": [
        "type(name)"
      ],
      "metadata": {
        "colab": {
          "base_uri": "https://localhost:8080/"
        },
        "id": "ltG_urPIcOEq",
        "outputId": "775ba1dd-889b-4b93-cc4f-b26527576fa2"
      },
      "execution_count": null,
      "outputs": [
        {
          "output_type": "execute_result",
          "data": {
            "text/plain": [
              "str"
            ]
          },
          "metadata": {},
          "execution_count": 3
        }
      ]
    },
    {
      "cell_type": "code",
      "source": [
        "#Write a code to find the length of the string \"Hello World\"?\n",
        "print(\"hello world\")\n",
        "len(\"hello world\")"
      ],
      "metadata": {
        "colab": {
          "base_uri": "https://localhost:8080/"
        },
        "id": "dzzxqXhBcVFh",
        "outputId": "72c52aca-5a8f-4454-e600-63170f8b7f1f"
      },
      "execution_count": null,
      "outputs": [
        {
          "output_type": "stream",
          "name": "stdout",
          "text": [
            "hello world\n"
          ]
        },
        {
          "output_type": "execute_result",
          "data": {
            "text/plain": [
              "11"
            ]
          },
          "metadata": {},
          "execution_count": 6
        }
      ]
    },
    {
      "cell_type": "code",
      "source": [
        "#Write a code to slice the first 3 characters from the string \"Python Programming\"?\n",
        "p = \"python programming\"\n",
        "p[0:3]\n"
      ],
      "metadata": {
        "colab": {
          "base_uri": "https://localhost:8080/",
          "height": 36
        },
        "id": "mWSMpLW9d2P0",
        "outputId": "70ee445b-5080-4c57-deeb-3fbf14c84642"
      },
      "execution_count": null,
      "outputs": [
        {
          "output_type": "execute_result",
          "data": {
            "text/plain": [
              "'pyt'"
            ],
            "application/vnd.google.colaboratory.intrinsic+json": {
              "type": "string"
            }
          },
          "metadata": {},
          "execution_count": 7
        }
      ]
    },
    {
      "cell_type": "code",
      "source": [
        "#Write a code to convert the string \"hello\" to uppercase?\n",
        "h = \"hello\"\n",
        "h.upper()"
      ],
      "metadata": {
        "colab": {
          "base_uri": "https://localhost:8080/",
          "height": 36
        },
        "id": "y_f4EJxBeZdq",
        "outputId": "44f5efc1-e36f-417a-b40a-6a86d25abcd7"
      },
      "execution_count": null,
      "outputs": [
        {
          "output_type": "execute_result",
          "data": {
            "text/plain": [
              "'HELLO'"
            ],
            "application/vnd.google.colaboratory.intrinsic+json": {
              "type": "string"
            }
          },
          "metadata": {},
          "execution_count": 9
        }
      ]
    },
    {
      "cell_type": "code",
      "source": [
        "#Write a code to replace the word \"apple\" with \"orange\" in the string \"I like apple\"?\n",
        "a = \"i like apple\"\n",
        "a.replace(\"apple\", \"orange\")"
      ],
      "metadata": {
        "colab": {
          "base_uri": "https://localhost:8080/",
          "height": 36
        },
        "id": "pf6nSMOWe4Xl",
        "outputId": "e731f0ec-ddd6-4ab7-cb6b-10c1a470329d"
      },
      "execution_count": null,
      "outputs": [
        {
          "output_type": "execute_result",
          "data": {
            "text/plain": [
              "'i like orange'"
            ],
            "application/vnd.google.colaboratory.intrinsic+json": {
              "type": "string"
            }
          },
          "metadata": {},
          "execution_count": 10
        }
      ]
    },
    {
      "cell_type": "code",
      "source": [
        "a"
      ],
      "metadata": {
        "colab": {
          "base_uri": "https://localhost:8080/",
          "height": 36
        },
        "id": "b3vD3QMYfWJj",
        "outputId": "bec25e79-5bdb-4b94-9a6d-ce98035cb7d4"
      },
      "execution_count": null,
      "outputs": [
        {
          "output_type": "execute_result",
          "data": {
            "text/plain": [
              "'i like apple'"
            ],
            "application/vnd.google.colaboratory.intrinsic+json": {
              "type": "string"
            }
          },
          "metadata": {},
          "execution_count": 11
        }
      ]
    },
    {
      "cell_type": "code",
      "source": [
        "#Write a code to create a list with numbers 1 to 5 and print it?\n",
        "l = [1, 2, 3, 4, 5]\n",
        "print(l)"
      ],
      "metadata": {
        "colab": {
          "base_uri": "https://localhost:8080/"
        },
        "id": "JilVuIu2feXJ",
        "outputId": "0fba9043-287d-4e8a-e694-a1b1ddf6ed08"
      },
      "execution_count": null,
      "outputs": [
        {
          "output_type": "stream",
          "name": "stdout",
          "text": [
            "[1, 2, 3, 4, 5]\n"
          ]
        }
      ]
    },
    {
      "cell_type": "code",
      "source": [
        "#Write a code to append the number 10 to the list [1, 2, 3, 4]?\n",
        "l.append(10)"
      ],
      "metadata": {
        "id": "uMVG0w4rftJh"
      },
      "execution_count": null,
      "outputs": []
    },
    {
      "cell_type": "code",
      "source": [
        "l"
      ],
      "metadata": {
        "colab": {
          "base_uri": "https://localhost:8080/"
        },
        "id": "vIhPMI66f74n",
        "outputId": "857a75a3-912a-4024-9cb5-310783b86fa3"
      },
      "execution_count": null,
      "outputs": [
        {
          "output_type": "execute_result",
          "data": {
            "text/plain": [
              "[1, 2, 3, 4, 5, 10]"
            ]
          },
          "metadata": {},
          "execution_count": 16
        }
      ]
    },
    {
      "cell_type": "code",
      "source": [
        "#Write a code to remove the number 3 from the list [1, 2, 3, 4, 5]?\n",
        "l.remove(3)"
      ],
      "metadata": {
        "id": "S_O3AmPXf8r7"
      },
      "execution_count": null,
      "outputs": []
    },
    {
      "cell_type": "code",
      "source": [
        "l"
      ],
      "metadata": {
        "colab": {
          "base_uri": "https://localhost:8080/"
        },
        "id": "LeRcOnrCgGWR",
        "outputId": "dbffcb01-c25c-4e21-9f85-d1208fe71572"
      },
      "execution_count": null,
      "outputs": [
        {
          "output_type": "execute_result",
          "data": {
            "text/plain": [
              "[1, 2, 4, 5, 10]"
            ]
          },
          "metadata": {},
          "execution_count": 18
        }
      ]
    },
    {
      "cell_type": "code",
      "source": [
        "#Write a code to access the second element in the list ['a', 'b', 'c', 'd']?\n",
        "m = ['a', 'b', 'c', 'd']\n",
        "second_element = m[1]\n",
        "print(second_element)\n",
        "third_element = m[2]\n",
        "print(third_element)"
      ],
      "metadata": {
        "colab": {
          "base_uri": "https://localhost:8080/"
        },
        "id": "BEmqE0i2gHUr",
        "outputId": "16d9d64b-52a7-4704-8c32-5d0dc340ca4b"
      },
      "execution_count": null,
      "outputs": [
        {
          "output_type": "stream",
          "name": "stdout",
          "text": [
            "b\n",
            "c\n"
          ]
        }
      ]
    },
    {
      "cell_type": "code",
      "source": [
        "#Write a code to reverse the list [10, 20, 30, 40, 50]?\n",
        "list = [10, 20, 30, 40, 50,]\n",
        "list[::-1]"
      ],
      "metadata": {
        "colab": {
          "base_uri": "https://localhost:8080/"
        },
        "id": "yLW48d9RhIOy",
        "outputId": "3223c034-fbb9-4c79-c828-f65874fd22f0"
      },
      "execution_count": null,
      "outputs": [
        {
          "output_type": "execute_result",
          "data": {
            "text/plain": [
              "[50, 40, 30, 20, 10]"
            ]
          },
          "metadata": {},
          "execution_count": 28
        }
      ]
    },
    {
      "cell_type": "code",
      "source": [
        "#Write a code to create a tuple with the elements 100, 200, 300 and print it?\n",
        "t = (100, 200, 300, )\n",
        "print(t)\n",
        "type(t)"
      ],
      "metadata": {
        "colab": {
          "base_uri": "https://localhost:8080/"
        },
        "id": "XJdWhROdiRpq",
        "outputId": "8a89f726-cbbd-427a-a4c7-4001c1d1df37"
      },
      "execution_count": null,
      "outputs": [
        {
          "output_type": "stream",
          "name": "stdout",
          "text": [
            "(100, 200, 300)\n"
          ]
        },
        {
          "output_type": "execute_result",
          "data": {
            "text/plain": [
              "tuple"
            ]
          },
          "metadata": {},
          "execution_count": 29
        }
      ]
    },
    {
      "cell_type": "code",
      "source": [
        "#Write a code to access the second-to-last element of the tuple ('red', 'green', 'blue', 'yellow')?\n",
        "t = ('red', 'green', 'blue', 'yellow')\n",
        "t[1:]"
      ],
      "metadata": {
        "colab": {
          "base_uri": "https://localhost:8080/"
        },
        "id": "lRexqB0pim7-",
        "outputId": "99303f97-f032-40b1-f962-dff133c68314"
      },
      "execution_count": null,
      "outputs": [
        {
          "output_type": "execute_result",
          "data": {
            "text/plain": [
              "('green', 'blue', 'yellow')"
            ]
          },
          "metadata": {},
          "execution_count": 33
        }
      ]
    },
    {
      "cell_type": "code",
      "source": [
        "#Write a code to find the minimum number in the tuple (10, 20, 5, 15)?\n",
        "num = (10, 20, 5, 15)\n",
        "min(num)"
      ],
      "metadata": {
        "colab": {
          "base_uri": "https://localhost:8080/"
        },
        "id": "S0FeQ1tji-pu",
        "outputId": "93866b9a-35ac-4da1-fcf4-2aded5e85389"
      },
      "execution_count": null,
      "outputs": [
        {
          "output_type": "execute_result",
          "data": {
            "text/plain": [
              "5"
            ]
          },
          "metadata": {},
          "execution_count": 40
        }
      ]
    },
    {
      "cell_type": "code",
      "source": [
        "#Write a code to find the index of the element \"cat\" in the tuple ('dog', 'cat', 'rabbit')?\n",
        "animal = ('dog', 'cat', 'rabbit')\n",
        "animal.index(\"cat\")"
      ],
      "metadata": {
        "colab": {
          "base_uri": "https://localhost:8080/"
        },
        "id": "rQepmuWYj57x",
        "outputId": "ddef930e-5d9d-4f4a-f151-3fee74d7e0d3"
      },
      "execution_count": null,
      "outputs": [
        {
          "output_type": "execute_result",
          "data": {
            "text/plain": [
              "1"
            ]
          },
          "metadata": {},
          "execution_count": 41
        }
      ]
    },
    {
      "cell_type": "code",
      "source": [
        "#Write a code to create a tuple containing three different fruits and check if \"kiwi\" is in it?\n",
        "fruit = (\"apple\", \"banana\", \"orange\")\n",
        "if \"kiwi\" in fruit:\n",
        "  print(\"yes kiwi is in fruit\")\n",
        "else:\n",
        "  print(\" no kiwi is in fruit\")"
      ],
      "metadata": {
        "colab": {
          "base_uri": "https://localhost:8080/"
        },
        "id": "LynL3dJWk7t5",
        "outputId": "a1972075-ffd9-49f0-9676-ac7202a8e306"
      },
      "execution_count": null,
      "outputs": [
        {
          "output_type": "stream",
          "name": "stdout",
          "text": [
            " no kiwi is in fruit\n"
          ]
        }
      ]
    },
    {
      "cell_type": "code",
      "source": [
        "#Write a code to create a set with the elements 'a', 'b', 'c' and print it?\n",
        "s = {'a', 'b', 'c'}\n",
        "print(s)\n",
        "type(s)"
      ],
      "metadata": {
        "colab": {
          "base_uri": "https://localhost:8080/"
        },
        "id": "NyuLll9elamy",
        "outputId": "8f4bcac1-3cbd-4056-ad99-a61cb629a73c"
      },
      "execution_count": null,
      "outputs": [
        {
          "output_type": "stream",
          "name": "stdout",
          "text": [
            "{'a', 'c', 'b'}\n"
          ]
        },
        {
          "output_type": "execute_result",
          "data": {
            "text/plain": [
              "set"
            ]
          },
          "metadata": {},
          "execution_count": 43
        }
      ]
    },
    {
      "cell_type": "code",
      "source": [
        "#Write a code to clear all elements from the set {1, 2, 3, 4, 5}?\n",
        "s = {1, 2, 3, 4, 5}\n",
        "s.clear()"
      ],
      "metadata": {
        "id": "tyGNhK4zl3UG"
      },
      "execution_count": null,
      "outputs": []
    },
    {
      "cell_type": "code",
      "source": [
        "s"
      ],
      "metadata": {
        "colab": {
          "base_uri": "https://localhost:8080/"
        },
        "id": "7ilQUZXMmE8j",
        "outputId": "ea2cde8d-320a-466d-dd85-7f66cede7d8c"
      },
      "execution_count": null,
      "outputs": [
        {
          "output_type": "execute_result",
          "data": {
            "text/plain": [
              "set()"
            ]
          },
          "metadata": {},
          "execution_count": 47
        }
      ]
    },
    {
      "cell_type": "code",
      "source": [
        "#Write a code to remove the element 4 from the set {1, 2, 3, 4}?\n",
        "s = {1, 2, 3, 4}\n",
        "s.remove(4)"
      ],
      "metadata": {
        "id": "lyPnMAKdmISH"
      },
      "execution_count": null,
      "outputs": []
    },
    {
      "cell_type": "code",
      "source": [
        "s"
      ],
      "metadata": {
        "colab": {
          "base_uri": "https://localhost:8080/"
        },
        "id": "DLlYVglAmXOn",
        "outputId": "a846a4e0-7666-42b9-f33f-35e739214e6d"
      },
      "execution_count": null,
      "outputs": [
        {
          "output_type": "execute_result",
          "data": {
            "text/plain": [
              "{1, 2, 3}"
            ]
          },
          "metadata": {},
          "execution_count": 49
        }
      ]
    },
    {
      "cell_type": "code",
      "source": [
        "#Write a code to find the union of two sets {1, 2, 3} and {3, 4, 5}?\n",
        "s = {1, 2, 3,}\n",
        "s1 = {3, 4, 5}\n",
        "s | s1"
      ],
      "metadata": {
        "colab": {
          "base_uri": "https://localhost:8080/"
        },
        "id": "9FPzx4npmXyi",
        "outputId": "a4d44c43-5f0f-402b-f3e1-e4179fecdb6b"
      },
      "execution_count": null,
      "outputs": [
        {
          "output_type": "execute_result",
          "data": {
            "text/plain": [
              "{1, 2, 3, 4, 5}"
            ]
          },
          "metadata": {},
          "execution_count": 50
        }
      ]
    },
    {
      "cell_type": "code",
      "source": [
        "#Write a code to find the intersection of two sets {1, 2, 3} and {2, 3, 4}?\n",
        "s & s1"
      ],
      "metadata": {
        "colab": {
          "base_uri": "https://localhost:8080/"
        },
        "id": "Z-NWU3OQmx9h",
        "outputId": "25666efc-b80e-4bf2-f5ab-e985a172c6c2"
      },
      "execution_count": null,
      "outputs": [
        {
          "output_type": "execute_result",
          "data": {
            "text/plain": [
              "{3}"
            ]
          },
          "metadata": {},
          "execution_count": 51
        }
      ]
    },
    {
      "cell_type": "code",
      "source": [
        "# Write a code to create a dictionary with the keys \"name\", \"age\", and \"city\", and print it?\n",
        "d = {\"name\":\"anoop\", \"age\":\"24\", \"city\":\"rewa\"}\n",
        "type(d)\n"
      ],
      "metadata": {
        "colab": {
          "base_uri": "https://localhost:8080/"
        },
        "id": "YsDFVue4m-vH",
        "outputId": "48aa6954-23e0-4834-867a-1803f1481be4"
      },
      "execution_count": null,
      "outputs": [
        {
          "output_type": "execute_result",
          "data": {
            "text/plain": [
              "dict"
            ]
          },
          "metadata": {},
          "execution_count": 52
        }
      ]
    },
    {
      "cell_type": "code",
      "source": [
        "d"
      ],
      "metadata": {
        "colab": {
          "base_uri": "https://localhost:8080/"
        },
        "id": "9rAMBqHincS6",
        "outputId": "86354fde-ee8d-4964-833f-645113a2a867"
      },
      "execution_count": null,
      "outputs": [
        {
          "output_type": "execute_result",
          "data": {
            "text/plain": [
              "{'name': 'anoop', 'age': '24', 'city': 'rewa'}"
            ]
          },
          "metadata": {},
          "execution_count": 53
        }
      ]
    },
    {
      "cell_type": "code",
      "source": [
        "#Write a code to add a new key-value pair \"country\": \"USA\" to the dictionary {'name': 'John', 'age': 25}?\n",
        "d = {\"name\":\"john\", \"age\":\"25\"}\n",
        "d[\"country\"] = \"usa\""
      ],
      "metadata": {
        "id": "CqV-LCPMndqk"
      },
      "execution_count": null,
      "outputs": []
    },
    {
      "cell_type": "code",
      "source": [
        "d"
      ],
      "metadata": {
        "colab": {
          "base_uri": "https://localhost:8080/"
        },
        "id": "3DHedlUEojG2",
        "outputId": "75dcd3a0-ffe9-4c74-d401-5c06f46eb895"
      },
      "execution_count": null,
      "outputs": [
        {
          "output_type": "execute_result",
          "data": {
            "text/plain": [
              "{'name': 'john', 'age': '25', 'country': 'usa'}"
            ]
          },
          "metadata": {},
          "execution_count": 57
        }
      ]
    },
    {
      "cell_type": "code",
      "source": [
        "#Write a code to access the value associated with the key \"name\" in the dictionary {'name': 'Alice', 'age': 30}?\n",
        "d = {\"name\":\"alice\", \"age\":\"30\"}\n",
        "\n"
      ],
      "metadata": {
        "id": "8niGsN2voj4-"
      },
      "execution_count": null,
      "outputs": []
    },
    {
      "cell_type": "code",
      "source": [
        "d"
      ],
      "metadata": {
        "colab": {
          "base_uri": "https://localhost:8080/"
        },
        "id": "a7HmgN02o2xk",
        "outputId": "beb4c221-c5e0-4cf0-ae6f-72fa3a5c7bb6"
      },
      "execution_count": null,
      "outputs": [
        {
          "output_type": "execute_result",
          "data": {
            "text/plain": [
              "{'name': 'alice', 'age': '30'}"
            ]
          },
          "metadata": {},
          "execution_count": 59
        }
      ]
    },
    {
      "cell_type": "code",
      "source": [
        "d[\"name\"]"
      ],
      "metadata": {
        "colab": {
          "base_uri": "https://localhost:8080/",
          "height": 36
        },
        "id": "aRSyPwlYo3Hu",
        "outputId": "4b9bc4a2-5e12-49d7-ff22-0bd883f929ce"
      },
      "execution_count": null,
      "outputs": [
        {
          "output_type": "execute_result",
          "data": {
            "text/plain": [
              "'alice'"
            ],
            "application/vnd.google.colaboratory.intrinsic+json": {
              "type": "string"
            }
          },
          "metadata": {},
          "execution_count": 60
        }
      ]
    },
    {
      "cell_type": "code",
      "source": [
        " #Write a code to remove the key \"age\" from the dictionary {'name': 'Bob', 'age': 22, 'city': 'New York'}?\n",
        " d = {\"name\":\"bob\", \"age\":\"22\", \"city\":\"new york\"}"
      ],
      "metadata": {
        "id": "T8jDIJq6o8w_"
      },
      "execution_count": null,
      "outputs": []
    },
    {
      "cell_type": "code",
      "source": [
        "d"
      ],
      "metadata": {
        "colab": {
          "base_uri": "https://localhost:8080/"
        },
        "id": "N1pBMqlQpjCb",
        "outputId": "43de70c6-b2be-4333-eb9b-ee0eb6a94061"
      },
      "execution_count": null,
      "outputs": [
        {
          "output_type": "execute_result",
          "data": {
            "text/plain": [
              "{'name': 'bob', 'age': '22', 'city': 'new york'}"
            ]
          },
          "metadata": {},
          "execution_count": 63
        }
      ]
    },
    {
      "cell_type": "code",
      "source": [
        "del d[\"age\"]"
      ],
      "metadata": {
        "id": "EDS-tKEnppIR"
      },
      "execution_count": null,
      "outputs": []
    },
    {
      "cell_type": "code",
      "source": [
        "d"
      ],
      "metadata": {
        "colab": {
          "base_uri": "https://localhost:8080/"
        },
        "id": "2yBeDdx0pvIX",
        "outputId": "ffc8fbd7-e380-4dd4-e7d3-4c74ec7b80ed"
      },
      "execution_count": null,
      "outputs": [
        {
          "output_type": "execute_result",
          "data": {
            "text/plain": [
              "{'name': 'bob', 'city': 'new york'}"
            ]
          },
          "metadata": {},
          "execution_count": 66
        }
      ]
    },
    {
      "cell_type": "code",
      "source": [
        "#Write a code to check if the key \"city\" exists in the dictionary {'name': 'Alice', 'city': 'Paris'}?\n",
        "d = {\"name\":\"alice\", \"city\":\"paris\"}"
      ],
      "metadata": {
        "id": "v4Hhv2YQqOV7"
      },
      "execution_count": null,
      "outputs": []
    },
    {
      "cell_type": "code",
      "source": [
        "d.get(\"city\")"
      ],
      "metadata": {
        "colab": {
          "base_uri": "https://localhost:8080/",
          "height": 36
        },
        "id": "Od6RD2u1qlqz",
        "outputId": "3c84c13a-edb1-4085-c8c6-396b671fb208"
      },
      "execution_count": null,
      "outputs": [
        {
          "output_type": "execute_result",
          "data": {
            "text/plain": [
              "'paris'"
            ],
            "application/vnd.google.colaboratory.intrinsic+json": {
              "type": "string"
            }
          },
          "metadata": {},
          "execution_count": 68
        }
      ]
    },
    {
      "cell_type": "code",
      "source": [
        "if \"city\" in d:\n",
        "  print(\"city exists\")\n",
        "else:\n",
        "  print(\"city does not exists\")"
      ],
      "metadata": {
        "colab": {
          "base_uri": "https://localhost:8080/"
        },
        "id": "vNWuckAXq9Ha",
        "outputId": "f595e5b4-35a8-4a24-f43b-47eaed896128"
      },
      "execution_count": null,
      "outputs": [
        {
          "output_type": "stream",
          "name": "stdout",
          "text": [
            "city exists\n"
          ]
        }
      ]
    },
    {
      "cell_type": "code",
      "source": [
        "#Write a code to create a list, a tuple, and a dictionary, and print them all?\n",
        "t = (1, 2, 3, 4, 5)\n",
        "d = {1, 2, 3, 4, 5}\n",
        "l = [1, 2, 3, 4, 5]\n",
        "print(t)\n",
        "print(d)\n",
        "print(l)"
      ],
      "metadata": {
        "colab": {
          "base_uri": "https://localhost:8080/"
        },
        "id": "1ohHeQ7qrSVR",
        "outputId": "898843a6-91fa-4b29-c3ce-9ea3dc335b3d"
      },
      "execution_count": null,
      "outputs": [
        {
          "output_type": "stream",
          "name": "stdout",
          "text": [
            "(1, 2, 3, 4, 5)\n",
            "{1, 2, 3, 4, 5}\n",
            "[1, 2, 3, 4, 5]\n"
          ]
        }
      ]
    },
    {
      "cell_type": "code",
      "source": [
        "#Write a code to create a list, a tuple, and a dictionary, and print them all?\n",
        "l = [20, 4, 98, 49, 17]\n"
      ],
      "metadata": {
        "id": "RJthnQwBr_1Q"
      },
      "execution_count": null,
      "outputs": []
    },
    {
      "cell_type": "code",
      "source": [
        "l"
      ],
      "metadata": {
        "colab": {
          "base_uri": "https://localhost:8080/"
        },
        "id": "cBALOzoPsaIU",
        "outputId": "49a21ef8-c8bf-4ffc-f6fa-1a5f52552eb7"
      },
      "execution_count": null,
      "outputs": [
        {
          "output_type": "execute_result",
          "data": {
            "text/plain": [
              "[20, 4, 98, 49, 17]"
            ]
          },
          "metadata": {},
          "execution_count": 73
        }
      ]
    },
    {
      "cell_type": "code",
      "source": [
        "l.sort()"
      ],
      "metadata": {
        "id": "K4flmm3Xsarw"
      },
      "execution_count": null,
      "outputs": []
    },
    {
      "cell_type": "code",
      "source": [
        "l"
      ],
      "metadata": {
        "colab": {
          "base_uri": "https://localhost:8080/"
        },
        "id": "nJNInj5GseR_",
        "outputId": "4d9acd4d-890f-4228-dfa8-a0f4154d545d"
      },
      "execution_count": null,
      "outputs": [
        {
          "output_type": "execute_result",
          "data": {
            "text/plain": [
              "[4, 17, 20, 49, 98]"
            ]
          },
          "metadata": {},
          "execution_count": 75
        }
      ]
    },
    {
      "cell_type": "code",
      "source": [
        "#Write a code to create a list with strings and print the element at the third index?\n",
        "l = [\"name\", \"age\", \"city\", \"surname\"]"
      ],
      "metadata": {
        "id": "BKczGtjgse8N"
      },
      "execution_count": null,
      "outputs": []
    },
    {
      "cell_type": "code",
      "source": [
        "l"
      ],
      "metadata": {
        "colab": {
          "base_uri": "https://localhost:8080/"
        },
        "id": "fijaXnpos_kC",
        "outputId": "5c5bad34-72df-4594-b8e8-86cb0fcbfce4"
      },
      "execution_count": null,
      "outputs": [
        {
          "output_type": "execute_result",
          "data": {
            "text/plain": [
              "['name', 'age', 'city', 'surname']"
            ]
          },
          "metadata": {},
          "execution_count": 77
        }
      ]
    },
    {
      "cell_type": "code",
      "source": [
        "l[3]"
      ],
      "metadata": {
        "colab": {
          "base_uri": "https://localhost:8080/",
          "height": 36
        },
        "id": "AaKkg7kYs_93",
        "outputId": "2048ef5d-dd3c-4150-b83f-8adff3a96e2a"
      },
      "execution_count": null,
      "outputs": [
        {
          "output_type": "execute_result",
          "data": {
            "text/plain": [
              "'surname'"
            ],
            "application/vnd.google.colaboratory.intrinsic+json": {
              "type": "string"
            }
          },
          "metadata": {},
          "execution_count": 79
        }
      ]
    },
    {
      "cell_type": "code",
      "source": [
        "#Write a code to combine two dictionaries into one and print the result?\n",
        "d = {1, 2, 3 ,4}\n",
        "d1 = {5 ,6, 7, 8}"
      ],
      "metadata": {
        "id": "j83PRSOztHX9"
      },
      "execution_count": null,
      "outputs": []
    },
    {
      "cell_type": "code",
      "source": [
        "d | d1"
      ],
      "metadata": {
        "colab": {
          "base_uri": "https://localhost:8080/"
        },
        "id": "nMTbWyPttf4-",
        "outputId": "c6efd5d3-970f-4de8-eb6e-5b5ab1ca041b"
      },
      "execution_count": null,
      "outputs": [
        {
          "output_type": "execute_result",
          "data": {
            "text/plain": [
              "{1, 2, 3, 4, 5, 6, 7, 8}"
            ]
          },
          "metadata": {},
          "execution_count": 81
        }
      ]
    },
    {
      "cell_type": "code",
      "source": [
        "d.update(d1)"
      ],
      "metadata": {
        "id": "0brVz35LtlFf"
      },
      "execution_count": null,
      "outputs": []
    },
    {
      "cell_type": "code",
      "source": [
        "d"
      ],
      "metadata": {
        "colab": {
          "base_uri": "https://localhost:8080/"
        },
        "id": "G8ZXZGXNt3PB",
        "outputId": "a0d06026-6dd5-4b35-f9fb-ee6ef35bcc00"
      },
      "execution_count": null,
      "outputs": [
        {
          "output_type": "execute_result",
          "data": {
            "text/plain": [
              "{1, 2, 3, 4, 5, 6, 7, 8}"
            ]
          },
          "metadata": {},
          "execution_count": 83
        }
      ]
    },
    {
      "cell_type": "code",
      "source": [
        "#Write a code to convert a list of strings into a set?\n",
        "l = [\"surname\", \"age\", \"name\", \"surname\"]\n",
        "\n"
      ],
      "metadata": {
        "id": "udw2rOb7t39m"
      },
      "execution_count": null,
      "outputs": []
    },
    {
      "cell_type": "code",
      "source": [
        "type(l)"
      ],
      "metadata": {
        "colab": {
          "base_uri": "https://localhost:8080/"
        },
        "id": "SNlFsza-ueyf",
        "outputId": "69fcb7db-22fe-4b4d-f6fa-d30e1b9d89d2"
      },
      "execution_count": null,
      "outputs": [
        {
          "output_type": "execute_result",
          "data": {
            "text/plain": [
              "list"
            ]
          },
          "metadata": {},
          "execution_count": 88
        }
      ]
    },
    {
      "cell_type": "code",
      "source": [
        "l = set(l)"
      ],
      "metadata": {
        "id": "HpbJgepNugQd"
      },
      "execution_count": null,
      "outputs": []
    },
    {
      "cell_type": "code",
      "source": [
        "l"
      ],
      "metadata": {
        "colab": {
          "base_uri": "https://localhost:8080/"
        },
        "id": "MPFC_AAOui7U",
        "outputId": "3556de77-55c9-4aa1-9948-b0d395eab80f"
      },
      "execution_count": null,
      "outputs": [
        {
          "output_type": "execute_result",
          "data": {
            "text/plain": [
              "{'age', 'name', 'surname'}"
            ]
          },
          "metadata": {},
          "execution_count": 90
        }
      ]
    },
    {
      "cell_type": "code",
      "source": [
        "type(l)"
      ],
      "metadata": {
        "colab": {
          "base_uri": "https://localhost:8080/"
        },
        "id": "Ofgr5OWVuji4",
        "outputId": "fa712ae4-ce2a-400a-a56d-7ec1d8baf8d0"
      },
      "execution_count": null,
      "outputs": [
        {
          "output_type": "execute_result",
          "data": {
            "text/plain": [
              "set"
            ]
          },
          "metadata": {},
          "execution_count": 92
        }
      ]
    },
    {
      "cell_type": "code",
      "source": [],
      "metadata": {
        "id": "hj1WYugSulxH"
      },
      "execution_count": null,
      "outputs": []
    }
  ]
}